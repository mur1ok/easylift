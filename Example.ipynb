{
 "cells": [
  {
   "cell_type": "markdown",
   "id": "5ba65d0a",
   "metadata": {},
   "source": [
    "# Load data"
   ]
  },
  {
   "cell_type": "code",
   "execution_count": 1,
   "id": "706050c1",
   "metadata": {},
   "outputs": [
    {
     "name": "stderr",
     "output_type": "stream",
     "text": [
      "/home/andrey/anaconda3/envs/venv/lib/python3.10/site-packages/pandas/core/arrays/masked.py:60: UserWarning: Pandas requires version '1.3.6' or newer of 'bottleneck' (version '1.3.5' currently installed).\n",
      "  from pandas.core import (\n"
     ]
    }
   ],
   "source": [
    "import pandas as pd\n",
    "import numpy as np\n",
    "%load_ext autoreload\n",
    "%autoreload 2"
   ]
  },
  {
   "cell_type": "code",
   "execution_count": 2,
   "id": "08f5243e",
   "metadata": {},
   "outputs": [],
   "source": [
    "target_field = 'target'\n",
    "treatment_field = 'treatment'"
   ]
  },
  {
   "cell_type": "code",
   "execution_count": 3,
   "id": "cad4ca27",
   "metadata": {},
   "outputs": [],
   "source": [
    "train = pd.read_parquet('data/train.parquet')\n",
    "valid = pd.read_parquet('data/valid.parquet')\n",
    "test = pd.read_parquet('data/test.parquet')"
   ]
  },
  {
   "cell_type": "code",
   "execution_count": 4,
   "id": "c1dd25c2",
   "metadata": {},
   "outputs": [],
   "source": [
    "# from sklearn.model_selection import train_test_split\n",
    "# from sklift.datasets import fetch_lenta\n",
    "# lenta_dataset = fetch_lenta()\n",
    "# df = lenta_dataset.data\n",
    "# df[target_field] = lenta_dataset[target_field]\n",
    "# df[treatment_field] = lenta_dataset[treatment_field].map({'test': 1, 'control': 0})\n",
    "# train, test = train_test_split(df, stratify=df[[treatment_field, target_field]])\n",
    "# train, valid = train_test_split(train, stratify=train[[treatment_field, target_field]])\n",
    "# train.to_parquet('data/train.parquet')\n",
    "# valid.to_parquet('data/valid.parquet')\n",
    "# test.to_parquet('data/test.parquet')"
   ]
  },
  {
   "cell_type": "markdown",
   "id": "d40d6696",
   "metadata": {},
   "source": [
    "# Create dataset"
   ]
  },
  {
   "cell_type": "code",
   "execution_count": 5,
   "id": "9a8f39e9",
   "metadata": {},
   "outputs": [],
   "source": [
    "from modules.data import Dataset"
   ]
  },
  {
   "cell_type": "code",
   "execution_count": 6,
   "id": "d3323e1d",
   "metadata": {},
   "outputs": [
    {
     "name": "stdout",
     "output_type": "stream",
     "text": [
      "\u001b[1m Num features: \u001b[0m 192 / 193 ['age', 'cheque_count_12m_g20', 'cheque_count_12m_g21', 'cheque_count_12m_g25', 'cheque_count_12m_g32', 'cheque_count_12m_g33', 'cheque_count_12m_g38', 'cheque_count_12m_g39', 'cheque_count_12m_g41', 'cheque_count_12m_g42']\b, ...]\n",
      "\u001b[1m Cat features: \u001b[0m 1 / 193 ['gender']\n",
      "\n",
      "train stats"
     ]
    },
    {
     "data": {
      "text/html": [
       "<div>\n",
       "<style scoped>\n",
       "    .dataframe tbody tr th:only-of-type {\n",
       "        vertical-align: middle;\n",
       "    }\n",
       "\n",
       "    .dataframe tbody tr th {\n",
       "        vertical-align: top;\n",
       "    }\n",
       "\n",
       "    .dataframe thead th {\n",
       "        text-align: right;\n",
       "    }\n",
       "</style>\n",
       "<table border=\"1\" class=\"dataframe\">\n",
       "  <thead>\n",
       "    <tr style=\"text-align: right;\">\n",
       "      <th></th>\n",
       "      <th>n obs</th>\n",
       "      <th>% of population</th>\n",
       "      <th>mean target</th>\n",
       "    </tr>\n",
       "    <tr>\n",
       "      <th>treatment</th>\n",
       "      <th></th>\n",
       "      <th></th>\n",
       "      <th></th>\n",
       "    </tr>\n",
       "  </thead>\n",
       "  <tbody>\n",
       "    <tr>\n",
       "      <th>0</th>\n",
       "      <td>96264</td>\n",
       "      <td>24.909627</td>\n",
       "      <td>0.102582</td>\n",
       "    </tr>\n",
       "    <tr>\n",
       "      <th>1</th>\n",
       "      <td>290189</td>\n",
       "      <td>75.090373</td>\n",
       "      <td>0.110125</td>\n",
       "    </tr>\n",
       "  </tbody>\n",
       "</table>\n",
       "</div>"
      ],
      "text/plain": [
       "            n obs  % of population  mean target\n",
       "treatment                                      \n",
       "0           96264        24.909627     0.102582\n",
       "1          290189        75.090373     0.110125"
      ]
     },
     "metadata": {},
     "output_type": "display_data"
    },
    {
     "name": "stdout",
     "output_type": "stream",
     "text": [
      "valid stats"
     ]
    },
    {
     "data": {
      "text/html": [
       "<div>\n",
       "<style scoped>\n",
       "    .dataframe tbody tr th:only-of-type {\n",
       "        vertical-align: middle;\n",
       "    }\n",
       "\n",
       "    .dataframe tbody tr th {\n",
       "        vertical-align: top;\n",
       "    }\n",
       "\n",
       "    .dataframe thead th {\n",
       "        text-align: right;\n",
       "    }\n",
       "</style>\n",
       "<table border=\"1\" class=\"dataframe\">\n",
       "  <thead>\n",
       "    <tr style=\"text-align: right;\">\n",
       "      <th></th>\n",
       "      <th>n obs</th>\n",
       "      <th>% of population</th>\n",
       "      <th>mean target</th>\n",
       "    </tr>\n",
       "    <tr>\n",
       "      <th>treatment</th>\n",
       "      <th></th>\n",
       "      <th></th>\n",
       "      <th></th>\n",
       "    </tr>\n",
       "  </thead>\n",
       "  <tbody>\n",
       "    <tr>\n",
       "      <th>0</th>\n",
       "      <td>32088</td>\n",
       "      <td>24.909562</td>\n",
       "      <td>0.102562</td>\n",
       "    </tr>\n",
       "    <tr>\n",
       "      <th>1</th>\n",
       "      <td>96730</td>\n",
       "      <td>75.090438</td>\n",
       "      <td>0.110131</td>\n",
       "    </tr>\n",
       "  </tbody>\n",
       "</table>\n",
       "</div>"
      ],
      "text/plain": [
       "           n obs  % of population  mean target\n",
       "treatment                                     \n",
       "0          32088        24.909562     0.102562\n",
       "1          96730        75.090438     0.110131"
      ]
     },
     "metadata": {},
     "output_type": "display_data"
    },
    {
     "name": "stdout",
     "output_type": "stream",
     "text": [
      "test stats"
     ]
    },
    {
     "data": {
      "text/html": [
       "<div>\n",
       "<style scoped>\n",
       "    .dataframe tbody tr th:only-of-type {\n",
       "        vertical-align: middle;\n",
       "    }\n",
       "\n",
       "    .dataframe tbody tr th {\n",
       "        vertical-align: top;\n",
       "    }\n",
       "\n",
       "    .dataframe thead th {\n",
       "        text-align: right;\n",
       "    }\n",
       "</style>\n",
       "<table border=\"1\" class=\"dataframe\">\n",
       "  <thead>\n",
       "    <tr style=\"text-align: right;\">\n",
       "      <th></th>\n",
       "      <th>n obs</th>\n",
       "      <th>% of population</th>\n",
       "      <th>mean target</th>\n",
       "    </tr>\n",
       "    <tr>\n",
       "      <th>treatment</th>\n",
       "      <th></th>\n",
       "      <th></th>\n",
       "      <th></th>\n",
       "    </tr>\n",
       "  </thead>\n",
       "  <tbody>\n",
       "    <tr>\n",
       "      <th>0</th>\n",
       "      <td>42785</td>\n",
       "      <td>24.910048</td>\n",
       "      <td>0.102583</td>\n",
       "    </tr>\n",
       "    <tr>\n",
       "      <th>1</th>\n",
       "      <td>128973</td>\n",
       "      <td>75.089952</td>\n",
       "      <td>0.110124</td>\n",
       "    </tr>\n",
       "  </tbody>\n",
       "</table>\n",
       "</div>"
      ],
      "text/plain": [
       "            n obs  % of population  mean target\n",
       "treatment                                      \n",
       "0           42785        24.910048     0.102583\n",
       "1          128973        75.089952     0.110124"
      ]
     },
     "metadata": {},
     "output_type": "display_data"
    }
   ],
   "source": [
    "dataset = Dataset(\n",
    "    train = train,\n",
    "    valid = valid,\n",
    "    test = test,\n",
    "    \n",
    "    treatment_field = treatment_field,\n",
    "    target_field = target_field, \n",
    "    show_stats=True\n",
    ")"
   ]
  },
  {
   "cell_type": "markdown",
   "id": "1022341d",
   "metadata": {},
   "source": [
    "# Feature filtering"
   ]
  },
  {
   "cell_type": "code",
   "execution_count": 7,
   "id": "99e9be4e",
   "metadata": {},
   "outputs": [
    {
     "name": "stdout",
     "output_type": "stream",
     "text": [
      "0 features were removed.\n",
      "The remaining number of factors is 193\n"
     ]
    }
   ],
   "source": [
    "from modules.data import delete_constant_features\n",
    "delete_constant_features(dataset)"
   ]
  },
  {
   "cell_type": "code",
   "execution_count": 8,
   "id": "4a9de82c",
   "metadata": {},
   "outputs": [
    {
     "name": "stdout",
     "output_type": "stream",
     "text": [
      "0 features were removed.\n",
      "The remaining number of factors is 193\n"
     ]
    }
   ],
   "source": [
    "from modules.data import delete_nan_features\n",
    "delete_nan_features(dataset)"
   ]
  },
  {
   "cell_type": "code",
   "execution_count": 9,
   "id": "1d40af1e",
   "metadata": {},
   "outputs": [
    {
     "name": "stdout",
     "output_type": "stream",
     "text": [
      "0 features were removed.\n",
      "The remaining number of factors is 193\n"
     ]
    },
    {
     "name": "stderr",
     "output_type": "stream",
     "text": [
      "/home/andrey/easylift/modules/data.py:189: FutureWarning: Series.__getitem__ treating keys as positions is deprecated. In a future version, integer keys will always be treated as labels (consistent with DataFrame behavior). To access a value by position, use `ser.iloc[pos]`\n",
      "  if dataset['train'][feature].value_counts(True)[0] < mean_unique_values:\n"
     ]
    }
   ],
   "source": [
    "from modules.data import delete_high_cardinality_cat_features\n",
    "delete_high_cardinality_cat_features(dataset, mean_unique_values=0.05)"
   ]
  },
  {
   "cell_type": "code",
   "execution_count": 10,
   "id": "01ef4bc7",
   "metadata": {},
   "outputs": [
    {
     "name": "stderr",
     "output_type": "stream",
     "text": [
      "193it [00:33,  5.76it/s]"
     ]
    },
    {
     "name": "stdout",
     "output_type": "stream",
     "text": [
      "0 features were removed.\n",
      "The remaining number of factors is 193\n"
     ]
    },
    {
     "name": "stderr",
     "output_type": "stream",
     "text": [
      "\n"
     ]
    }
   ],
   "source": [
    "from modules.data import delete_duplicated_features\n",
    "delete_duplicated_features(dataset)"
   ]
  },
  {
   "cell_type": "code",
   "execution_count": 11,
   "id": "73483608",
   "metadata": {},
   "outputs": [
    {
     "name": "stdout",
     "output_type": "stream",
     "text": [
      "5 features were removed.\n",
      "The remaining number of factors is 188\n"
     ]
    }
   ],
   "source": [
    "from modules.data import delete_high_corr_features\n",
    "delete_high_corr_features(dataset)"
   ]
  },
  {
   "cell_type": "code",
   "execution_count": 12,
   "id": "ea7851c0",
   "metadata": {},
   "outputs": [
    {
     "name": "stdout",
     "output_type": "stream",
     "text": [
      "83 features were removed.\n",
      "The remaining number of factors is 105\n"
     ]
    }
   ],
   "source": [
    "from modules.data import F_filter\n",
    "F_filter(dataset)"
   ]
  },
  {
   "cell_type": "code",
   "execution_count": 13,
   "id": "27ddc18b",
   "metadata": {},
   "outputs": [
    {
     "name": "stdout",
     "output_type": "stream",
     "text": [
      "95 features were removed.\n",
      "The remaining number of factors is 10\n"
     ]
    }
   ],
   "source": [
    "from modules.data import LR_filter\n",
    "LR_filter(dataset)"
   ]
  },
  {
   "cell_type": "code",
   "execution_count": 14,
   "id": "04222151",
   "metadata": {},
   "outputs": [
    {
     "name": "stdout",
     "output_type": "stream",
     "text": [
      "5 features were removed.\n",
      "The remaining number of factors is 5\n"
     ]
    }
   ],
   "source": [
    "from modules.data import KL_filter\n",
    "KL_filter(dataset)"
   ]
  },
  {
   "cell_type": "markdown",
   "id": "4892981a",
   "metadata": {},
   "source": [
    "# Adversarial validation"
   ]
  },
  {
   "cell_type": "code",
   "execution_count": 15,
   "id": "6823d908",
   "metadata": {},
   "outputs": [],
   "source": [
    "from modules.data import adversarial_tg_cg, adversarial_split_quality"
   ]
  },
  {
   "cell_type": "code",
   "execution_count": 29,
   "id": "bf75c147",
   "metadata": {},
   "outputs": [
    {
     "name": "stderr",
     "output_type": "stream",
     "text": [
      "4it [00:05,  1.38s/it]\n"
     ]
    },
    {
     "name": "stdout",
     "output_type": "stream",
     "text": [
      "ROC-AUC in valid TG/CG: 0.5143\n"
     ]
    },
    {
     "data": {
      "image/png": "[encoded data removed]",
      "text/plain": [
       "<Figure size 640x480 with 1 Axes>"
      ]
     },
     "metadata": {},
     "output_type": "display_data"
    }
   ],
   "source": [
    "adversarial_tg_cg(dataset, 'valid')"
   ]
  },
  {
   "cell_type": "code",
   "execution_count": 30,
   "id": "b2fb0e6a",
   "metadata": {},
   "outputs": [
    {
     "name": "stderr",
     "output_type": "stream",
     "text": [
      "4it [00:10,  2.53s/it]\n"
     ]
    },
    {
     "name": "stdout",
     "output_type": "stream",
     "text": [
      "ROC-AUC in valid/test split: 0.5008\n"
     ]
    },
    {
     "data": {
      "image/png": "[encoded data removed]",
      "text/plain": [
       "<Figure size 640x480 with 1 Axes>"
      ]
     },
     "metadata": {},
     "output_type": "display_data"
    }
   ],
   "source": [
    "adversarial_split_quality(dataset, 'valid', 'test')"
   ]
  },
  {
   "cell_type": "markdown",
   "id": "f015de5f",
   "metadata": {},
   "source": [
    "# Statistical checks of A/B test"
   ]
  },
  {
   "cell_type": "code",
   "execution_count": 18,
   "id": "82ee2e8d",
   "metadata": {},
   "outputs": [],
   "source": [
    "from modules.data import two_proprotions_confint"
   ]
  },
  {
   "cell_type": "code",
   "execution_count": 19,
   "id": "a41f9d27",
   "metadata": {},
   "outputs": [
    {
     "name": "stdout",
     "output_type": "stream",
     "text": [
      "Proportions difference: 0.0075471269267721325\n",
      "Confidence interval: (0.005874979822561885, 0.00921927403098238)\n",
      "0 in confidence interval: False\n"
     ]
    }
   ],
   "source": [
    "two_proprotions_confint(dataset, 0.05)"
   ]
  },
  {
   "cell_type": "code",
   "execution_count": 21,
   "id": "9c935c02",
   "metadata": {},
   "outputs": [
    {
     "name": "stderr",
     "output_type": "stream",
     "text": [
      "100%|█████████████████████████████████████████████| 5/5 [00:01<00:00,  3.89it/s]\n"
     ]
    },
    {
     "data": {
      "text/html": [
       "<div>\n",
       "<style scoped>\n",
       "    .dataframe tbody tr th:only-of-type {\n",
       "        vertical-align: middle;\n",
       "    }\n",
       "\n",
       "    .dataframe tbody tr th {\n",
       "        vertical-align: top;\n",
       "    }\n",
       "\n",
       "    .dataframe thead th {\n",
       "        text-align: right;\n",
       "    }\n",
       "</style>\n",
       "<table border=\"1\" class=\"dataframe\">\n",
       "  <thead>\n",
       "    <tr style=\"text-align: right;\">\n",
       "      <th></th>\n",
       "      <th>feature</th>\n",
       "      <th>psi</th>\n",
       "    </tr>\n",
       "  </thead>\n",
       "  <tbody>\n",
       "    <tr>\n",
       "      <th>1</th>\n",
       "      <td>response_viber</td>\n",
       "      <td>0.007414</td>\n",
       "    </tr>\n",
       "    <tr>\n",
       "      <th>3</th>\n",
       "      <td>sale_sum_12m_g27</td>\n",
       "      <td>0.002037</td>\n",
       "    </tr>\n",
       "    <tr>\n",
       "      <th>2</th>\n",
       "      <td>sale_count_12m_g49</td>\n",
       "      <td>0.001757</td>\n",
       "    </tr>\n",
       "    <tr>\n",
       "      <th>4</th>\n",
       "      <td>gender</td>\n",
       "      <td>0.001311</td>\n",
       "    </tr>\n",
       "    <tr>\n",
       "      <th>0</th>\n",
       "      <td>k_var_sku_price_1m_g27</td>\n",
       "      <td>0.001235</td>\n",
       "    </tr>\n",
       "  </tbody>\n",
       "</table>\n",
       "</div>"
      ],
      "text/plain": [
       "                  feature       psi\n",
       "1          response_viber  0.007414\n",
       "3        sale_sum_12m_g27  0.002037\n",
       "2      sale_count_12m_g49  0.001757\n",
       "4                  gender  0.001311\n",
       "0  k_var_sku_price_1m_g27  0.001235"
      ]
     },
     "metadata": {},
     "output_type": "display_data"
    }
   ],
   "source": [
    "psi_cg_tg(dataset, sample='valid')"
   ]
  },
  {
   "cell_type": "code",
   "execution_count": null,
   "id": "8d29efa7",
   "metadata": {},
   "outputs": [],
   "source": []
  }
 ],
 "metadata": {
  "kernelspec": {
   "display_name": "Python 3 (ipykernel)",
   "language": "python",
   "name": "python3"
  },
  "language_info": {
   "codemirror_mode": {
    "name": "ipython",
    "version": 3
   },
   "file_extension": ".py",
   "mimetype": "text/x-python",
   "name": "python",
   "nbconvert_exporter": "python",
   "pygments_lexer": "ipython3",
   "version": "3.10.4"
  }
 },
 "nbformat": 4,
 "nbformat_minor": 5
}
