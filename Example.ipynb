{
 "cells": [
  {
   "cell_type": "markdown",
   "id": "5ba65d0a",
   "metadata": {},
   "source": [
    "# Load data"
   ]
  },
  {
   "cell_type": "code",
   "execution_count": 1,
   "id": "706050c1",
   "metadata": {},
   "outputs": [],
   "source": [
    "import pandas as pd\n",
    "%load_ext autoreload\n",
    "%autoreload 2"
   ]
  },
  {
   "cell_type": "code",
   "execution_count": 2,
   "id": "08f5243e",
   "metadata": {},
   "outputs": [],
   "source": [
    "target_field = 'target'\n",
    "treatment_field = 'treatment'"
   ]
  },
  {
   "cell_type": "code",
   "execution_count": 3,
   "id": "cad4ca27",
   "metadata": {},
   "outputs": [],
   "source": [
    "train = pd.read_parquet('data/train.parquet')\n",
    "valid = pd.read_parquet('data/valid.parquet')\n",
    "test = pd.read_parquet('data/test.parquet')"
   ]
  },
  {
   "cell_type": "code",
   "execution_count": 4,
   "id": "c1dd25c2",
   "metadata": {},
   "outputs": [],
   "source": [
    "# from sklearn.model_selection import train_test_split\n",
    "# from sklift.datasets import fetch_lenta\n",
    "# lenta_dataset = fetch_lenta()\n",
    "# df = lenta_dataset.data\n",
    "# df[target_field] = lenta_dataset[target_field]\n",
    "# df[treatment_field] = lenta_dataset[treatment_field].map({'test': 1, 'control': 0})\n",
    "# train, test = train_test_split(df, stratify=df[[treatment_field, target_field]])\n",
    "# train, valid = train_test_split(train, stratify=train[[treatment_field, target_field]])\n",
    "# train.to_parquet('data/train.parquet')\n",
    "# valid.to_parquet('data/valid.parquet')\n",
    "# test.to_parquet('data/test.parquet')"
   ]
  },
  {
   "cell_type": "markdown",
   "id": "d40d6696",
   "metadata": {},
   "source": [
    "# Create dataset"
   ]
  },
  {
   "cell_type": "code",
   "execution_count": 5,
   "id": "9a8f39e9",
   "metadata": {},
   "outputs": [],
   "source": [
    "from modules.data import Dataset"
   ]
  },
  {
   "cell_type": "code",
   "execution_count": 6,
   "id": "d3323e1d",
   "metadata": {},
   "outputs": [
    {
     "name": "stdout",
     "output_type": "stream",
     "text": [
      "\u001b[1m Num features: \u001b[0m 192 / 193 ['age', 'cheque_count_12m_g20', 'cheque_count_12m_g21', 'cheque_count_12m_g25', 'cheque_count_12m_g32', 'cheque_count_12m_g33', 'cheque_count_12m_g38', 'cheque_count_12m_g39', 'cheque_count_12m_g41', 'cheque_count_12m_g42']\b, ...]\n",
      "\u001b[1m Cat features: \u001b[0m 1 / 193 ['gender']\n",
      "\n",
      "train stats"
     ]
    },
    {
     "data": {
      "text/html": [
       "<div>\n",
       "<style scoped>\n",
       "    .dataframe tbody tr th:only-of-type {\n",
       "        vertical-align: middle;\n",
       "    }\n",
       "\n",
       "    .dataframe tbody tr th {\n",
       "        vertical-align: top;\n",
       "    }\n",
       "\n",
       "    .dataframe thead th {\n",
       "        text-align: right;\n",
       "    }\n",
       "</style>\n",
       "<table border=\"1\" class=\"dataframe\">\n",
       "  <thead>\n",
       "    <tr style=\"text-align: right;\">\n",
       "      <th></th>\n",
       "      <th>n obs</th>\n",
       "      <th>% of population</th>\n",
       "      <th>mean target</th>\n",
       "    </tr>\n",
       "    <tr>\n",
       "      <th>treatment</th>\n",
       "      <th></th>\n",
       "      <th></th>\n",
       "      <th></th>\n",
       "    </tr>\n",
       "  </thead>\n",
       "  <tbody>\n",
       "    <tr>\n",
       "      <th>0</th>\n",
       "      <td>96264</td>\n",
       "      <td>24.909627</td>\n",
       "      <td>0.102582</td>\n",
       "    </tr>\n",
       "    <tr>\n",
       "      <th>1</th>\n",
       "      <td>290189</td>\n",
       "      <td>75.090373</td>\n",
       "      <td>0.110125</td>\n",
       "    </tr>\n",
       "  </tbody>\n",
       "</table>\n",
       "</div>"
      ],
      "text/plain": [
       "            n obs  % of population  mean target\n",
       "treatment                                      \n",
       "0           96264        24.909627     0.102582\n",
       "1          290189        75.090373     0.110125"
      ]
     },
     "metadata": {},
     "output_type": "display_data"
    },
    {
     "name": "stdout",
     "output_type": "stream",
     "text": [
      "valid stats"
     ]
    },
    {
     "data": {
      "text/html": [
       "<div>\n",
       "<style scoped>\n",
       "    .dataframe tbody tr th:only-of-type {\n",
       "        vertical-align: middle;\n",
       "    }\n",
       "\n",
       "    .dataframe tbody tr th {\n",
       "        vertical-align: top;\n",
       "    }\n",
       "\n",
       "    .dataframe thead th {\n",
       "        text-align: right;\n",
       "    }\n",
       "</style>\n",
       "<table border=\"1\" class=\"dataframe\">\n",
       "  <thead>\n",
       "    <tr style=\"text-align: right;\">\n",
       "      <th></th>\n",
       "      <th>n obs</th>\n",
       "      <th>% of population</th>\n",
       "      <th>mean target</th>\n",
       "    </tr>\n",
       "    <tr>\n",
       "      <th>treatment</th>\n",
       "      <th></th>\n",
       "      <th></th>\n",
       "      <th></th>\n",
       "    </tr>\n",
       "  </thead>\n",
       "  <tbody>\n",
       "    <tr>\n",
       "      <th>0</th>\n",
       "      <td>32088</td>\n",
       "      <td>24.909562</td>\n",
       "      <td>0.102562</td>\n",
       "    </tr>\n",
       "    <tr>\n",
       "      <th>1</th>\n",
       "      <td>96730</td>\n",
       "      <td>75.090438</td>\n",
       "      <td>0.110131</td>\n",
       "    </tr>\n",
       "  </tbody>\n",
       "</table>\n",
       "</div>"
      ],
      "text/plain": [
       "           n obs  % of population  mean target\n",
       "treatment                                     \n",
       "0          32088        24.909562     0.102562\n",
       "1          96730        75.090438     0.110131"
      ]
     },
     "metadata": {},
     "output_type": "display_data"
    },
    {
     "name": "stdout",
     "output_type": "stream",
     "text": [
      "test stats"
     ]
    },
    {
     "data": {
      "text/html": [
       "<div>\n",
       "<style scoped>\n",
       "    .dataframe tbody tr th:only-of-type {\n",
       "        vertical-align: middle;\n",
       "    }\n",
       "\n",
       "    .dataframe tbody tr th {\n",
       "        vertical-align: top;\n",
       "    }\n",
       "\n",
       "    .dataframe thead th {\n",
       "        text-align: right;\n",
       "    }\n",
       "</style>\n",
       "<table border=\"1\" class=\"dataframe\">\n",
       "  <thead>\n",
       "    <tr style=\"text-align: right;\">\n",
       "      <th></th>\n",
       "      <th>n obs</th>\n",
       "      <th>% of population</th>\n",
       "      <th>mean target</th>\n",
       "    </tr>\n",
       "    <tr>\n",
       "      <th>treatment</th>\n",
       "      <th></th>\n",
       "      <th></th>\n",
       "      <th></th>\n",
       "    </tr>\n",
       "  </thead>\n",
       "  <tbody>\n",
       "    <tr>\n",
       "      <th>0</th>\n",
       "      <td>42785</td>\n",
       "      <td>24.910048</td>\n",
       "      <td>0.102583</td>\n",
       "    </tr>\n",
       "    <tr>\n",
       "      <th>1</th>\n",
       "      <td>128973</td>\n",
       "      <td>75.089952</td>\n",
       "      <td>0.110124</td>\n",
       "    </tr>\n",
       "  </tbody>\n",
       "</table>\n",
       "</div>"
      ],
      "text/plain": [
       "            n obs  % of population  mean target\n",
       "treatment                                      \n",
       "0           42785        24.910048     0.102583\n",
       "1          128973        75.089952     0.110124"
      ]
     },
     "metadata": {},
     "output_type": "display_data"
    }
   ],
   "source": [
    "dataset = Dataset(\n",
    "    train = train,\n",
    "    valid = valid,\n",
    "    test = test,\n",
    "    \n",
    "    treatment_field = treatment_field,\n",
    "    target_field = target_field, \n",
    "    show_stats=True\n",
    ")"
   ]
  },
  {
   "cell_type": "markdown",
   "id": "1022341d",
   "metadata": {},
   "source": [
    "# Feature filtering"
   ]
  },
  {
   "cell_type": "code",
   "execution_count": 7,
   "id": "0db00cb7",
   "metadata": {},
   "outputs": [],
   "source": [
    "from modules.data import delete_nan_features, delete_high_cardinality_cat_features"
   ]
  },
  {
   "cell_type": "code",
   "execution_count": 8,
   "id": "cc16df41",
   "metadata": {},
   "outputs": [
    {
     "name": "stdout",
     "output_type": "stream",
     "text": [
      "27 features were removed.\n",
      "The remaining number of factors is 166\n"
     ]
    }
   ],
   "source": [
    "delete_nan_features(dataset, 0.5)"
   ]
  },
  {
   "cell_type": "code",
   "execution_count": 9,
   "id": "973e7acc",
   "metadata": {},
   "outputs": [
    {
     "name": "stdout",
     "output_type": "stream",
     "text": [
      "1 features were removed.\n",
      "The remaining number of factors is 165\n"
     ]
    }
   ],
   "source": [
    "delete_high_cardinality_cat_features(dataset, 2)"
   ]
  },
  {
   "cell_type": "code",
   "execution_count": null,
   "id": "2f847e7a",
   "metadata": {},
   "outputs": [],
   "source": []
  }
 ],
 "metadata": {
  "kernelspec": {
   "display_name": "Python 3 (ipykernel)",
   "language": "python",
   "name": "python3"
  },
  "language_info": {
   "codemirror_mode": {
    "name": "ipython",
    "version": 3
   },
   "file_extension": ".py",
   "mimetype": "text/x-python",
   "name": "python",
   "nbconvert_exporter": "python",
   "pygments_lexer": "ipython3",
   "version": "3.10.4"
  }
 },
 "nbformat": 4,
 "nbformat_minor": 5
}
